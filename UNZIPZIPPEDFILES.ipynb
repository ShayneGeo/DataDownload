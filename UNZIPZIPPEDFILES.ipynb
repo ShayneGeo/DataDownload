{
 "cells": [
  {
   "cell_type": "code",
   "execution_count": null,
   "id": "7e586d09-2198-42f3-a9ae-f9e37692b04e",
   "metadata": {},
   "outputs": [],
   "source": [
    "import os\n",
    "import zipfile\n",
    "\n",
    "def unzip_folder(zip_path, extract_path):\n",
    "    with zipfile.ZipFile(zip_path, 'r') as zip_ref:\n",
    "        zip_ref.extractall(extract_path)\n",
    "\n",
    "# replace this with your paths\n",
    "zip_directory = \"C:\\\\Users\\\\Desktop\\\\PATHTOZIP\\\\\"  # directory where your .zip files are\n",
    "\n",
    "extract_path = 'C:\\\\Users\\\\Desktop\\\\PATHTOUNZIP\\\\'  # where to extract the .zip files\n",
    "\n",
    "\n",
    "# iterate over all the files in zip_directory\n",
    "for filename in os.listdir(zip_directory):\n",
    "    if filename.endswith(\".zip\"):  # check if the file is a .zip file\n",
    "        zip_path = os.path.join(zip_directory, filename)\n",
    "        unzip_folder(zip_path, extract_path)"
   ]
  }
 ],
 "metadata": {
  "kernelspec": {
   "display_name": "Python 3 (ipykernel)",
   "language": "python",
   "name": "python3"
  },
  "language_info": {
   "codemirror_mode": {
    "name": "ipython",
    "version": 3
   },
   "file_extension": ".py",
   "mimetype": "text/x-python",
   "name": "python",
   "nbconvert_exporter": "python",
   "pygments_lexer": "ipython3",
   "version": "3.10.14"
  }
 },
 "nbformat": 4,
 "nbformat_minor": 5
}
