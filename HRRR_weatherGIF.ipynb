{
 "cells": [
  {
   "cell_type": "markdown",
   "id": "3453c144-ede7-4277-aee5-d8120c27f2ad",
   "metadata": {},
   "source": [
    "# Multi-day Gif"
   ]
  },
  {
   "cell_type": "code",
   "execution_count": null,
   "id": "7145bcdf-63c3-46dc-912a-eebab256f5e8",
   "metadata": {},
   "outputs": [],
   "source": [
    "import matplotlib.animation as animation\n",
    "from datetime import timedelta, datetime\n",
    "import matplotlib.pyplot as plt\n",
    "\n",
    "# Define start and end dates\n",
    "start_date = datetime(2023, 8, 1)\n",
    "end_date = datetime(2023, 8, 7)\n",
    "\n",
    "# Define a function to update the plot for a given day\n",
    "def update(day):\n",
    "    ax.clear()\n",
    "    ax.add_feature(cfeature.STATES)\n",
    "    date = start_date + timedelta(days=day)\n",
    "    H = Herbie(\n",
    "        date.strftime(\"%Y-%m-%d\"),\n",
    "        model=\"hrrr\",\n",
    "        product=\"sfc\",\n",
    "        fxx=0,\n",
    "    )\n",
    "    #ds = H.xarray(\"TMP:2 m above\")\n",
    "    ds = H.xarray(\"GUST:surface\")\n",
    "    p = ax.pcolormesh(\n",
    "        ds.longitude,\n",
    "        ds.latitude,\n",
    "        ds.gust, \n",
    "        transform=ccrs.PlateCarree(),\n",
    "        vmin=0, \n",
    "        vmax=20,\n",
    "    )\n",
    "    ax.set_extent([-125, -102, 32, 42])\n",
    "    return p,\n",
    "\n",
    "# Create a new figure\n",
    "fig = plt.figure(figsize=[8, 5])\n",
    "ax = fig.add_subplot(1, 1, 1, projection=ccrs.PlateCarree())\n",
    "\n",
    "# Create an animation\n",
    "ani = animation.FuncAnimation(fig, update, frames=(end_date-start_date).days, interval=200)\n",
    "\n",
    "# Save the animation as a GIF\n",
    "ani.save('C:\\\\Users\\\\Desktop\\\\gif\\\\WEATHER_GIF.gif', writer='imagemagick')\n",
    "\n",
    "# Close the figure\n",
    "plt.close(fig)"
   ]
  },
  {
   "cell_type": "markdown",
   "id": "434dcdb0-5b8c-4473-bb3d-89dac49e7216",
   "metadata": {},
   "source": [
    "# Single Day Plot"
   ]
  },
  {
   "cell_type": "code",
   "execution_count": 2,
   "id": "fff259af-f701-404e-b95e-5f69bcb20273",
   "metadata": {},
   "outputs": [
    {
     "name": "stdout",
     "output_type": "stream",
     "text": [
      "✅ Found ┊ model=hrrr ┊ \u001b[3mproduct=sfc\u001b[0m ┊ \u001b[38;2;41;130;13m2023-Aug-01 00:00 UTC\u001b[92m F00\u001b[0m ┊ \u001b[38;2;255;153;0m\u001b[3mGRIB2 @ aws\u001b[0m ┊ \u001b[38;2;255;153;0m\u001b[3mIDX @ aws\u001b[0m\n"
     ]
    }
   ],
   "source": [
    "import matplotlib.pyplot as plt\n",
    "import cartopy.crs as ccrs\n",
    "import cartopy.feature as cfeature\n",
    "from datetime import datetime\n",
    "from herbie import Herbie\n",
    "\n",
    "# Define the specific date you want to plot\n",
    "date = datetime(2023, 8, 1)\n",
    "\n",
    "# Create a new figure\n",
    "fig = plt.figure(figsize=[8, 5])\n",
    "ax = fig.add_subplot(1, 1, 1, projection=ccrs.PlateCarree())\n",
    "\n",
    "# Add state boundaries for context\n",
    "ax.add_feature(cfeature.STATES)\n",
    "\n",
    "# Retrieve the data for the specified date\n",
    "H = Herbie(\n",
    "    date.strftime(\"%Y-%m-%d\"),\n",
    "    model=\"hrrr\",\n",
    "    product=\"sfc\",\n",
    "    fxx=0,\n",
    ")\n",
    "ds = H.xarray(\"GUST:surface\")\n",
    "\n",
    "# Plot the data\n",
    "p = ax.pcolormesh(\n",
    "    ds.longitude,\n",
    "    ds.latitude,\n",
    "    ds.gust,\n",
    "    transform=ccrs.PlateCarree(),\n",
    "    vmin=0,\n",
    "    vmax=20,\n",
    ")\n",
    "ax.set_extent([-125, -102, 32, 42])\n",
    "\n",
    "# Add a colorbar\n",
    "plt.colorbar(p, ax=ax, orientation='horizontal', pad=0.05, aspect=50)\n",
    "\n",
    "# Save the plot as a PNG\n",
    "plt.savefig(r'C:\\Users\\Desktop\\gif\\WEATHER_PLOT.png')\n",
    "\n",
    "# Close the figure\n",
    "plt.close(fig)\n"
   ]
  }
 ],
 "metadata": {
  "kernelspec": {
   "display_name": "Python 3 (ipykernel)",
   "language": "python",
   "name": "python3"
  },
  "language_info": {
   "codemirror_mode": {
    "name": "ipython",
    "version": 3
   },
   "file_extension": ".py",
   "mimetype": "text/x-python",
   "name": "python",
   "nbconvert_exporter": "python",
   "pygments_lexer": "ipython3",
   "version": "3.11.0"
  }
 },
 "nbformat": 4,
 "nbformat_minor": 5
}
