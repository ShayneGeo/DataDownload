{
 "cells": [
  {
   "cell_type": "markdown",
   "id": "90dcf6b8-df44-426e-bbbf-0884ef1bca17",
   "metadata": {},
   "source": [
    "# Function"
   ]
  },
  {
   "cell_type": "code",
   "execution_count": null,
   "id": "4b6870b4-cf55-4980-89d6-4f4360377e41",
   "metadata": {},
   "outputs": [],
   "source": [
    "def create_points_along_line(line, interval):\n",
    "    length = line.length\n",
    "    current_distance = 0\n",
    "    points = []\n",
    "\n",
    "    while current_distance < length:\n",
    "        point = line.interpolate(current_distance)\n",
    "        points.append(Point(point.x, point.y))\n",
    "        current_distance += decimal_degrees\n",
    "\n",
    "    return points"
   ]
  },
  {
   "cell_type": "markdown",
   "id": "d9e22f09-dea1-48e5-ad87-929e54718138",
   "metadata": {},
   "source": [
    "# Create MultiPoint along line.shp"
   ]
  },
  {
   "cell_type": "code",
   "execution_count": null,
   "id": "37f859f6-fdb9-4ebf-b687-149fc3a85ad1",
   "metadata": {},
   "outputs": [],
   "source": [
    "import math\n",
    "from shapely.geometry import Point\n",
    "import pystac_client\n",
    "import planetary_computer\n",
    "import geopandas as gpd\n",
    "\n",
    "# Path to your shapefile\n",
    "shapefile_path = \"C:\\\\Path\\\\To\\\\Desktop\\\\Shapefile\\\\TestPODbndry_BUCK_2.shp\"\n",
    "\n",
    "# Read the shapefile\n",
    "gdf = gpd.read_file(shapefile_path)\n",
    "\n",
    "# Create a buffer around each geometry in the GeoDataFrame\n",
    "buffered_gdf = gdf.buffer(0.01)\n",
    "\n",
    "# Create a new GeoDataFrame from the buffered geometries\n",
    "buffered_gdf = gpd.GeoDataFrame(geometry=buffered_gdf, crs=gdf.crs)\n",
    "\n",
    "# Explore the buffered GeoDataFrame\n",
    "buffered_gdf.explore()\n",
    "\n",
    "meters_between_PTS=1000\n",
    "xmin, ymin, xmax, ymax = buffered_gdf.total_bounds\n",
    "latitude = (ymin + ymax) / 2\n",
    "decimal_degrees = -meters_between_PTS / (111319.9 * math.cos(latitude))\n",
    "print(decimal_degrees)\n",
    "\n",
    "# Apply the function to each line in breached_pod and collect all points\n",
    "all_points = []\n",
    "for line in gdf.geometry:\n",
    "    points = create_points_along_line(line, decimal_degrees)\n",
    "    all_points.extend(points)\n",
    "\n",
    "# Convert list of points to a GeoDataFrame\n",
    "points_gdf = gpd.GeoDataFrame(geometry=all_points, crs=gdf.crs)\n",
    "\n",
    "coordinates_list = [(point.x, point.y) for point in points_gdf.geometry]\n",
    "\n",
    "# Construct the GeoJSON MultiPoint object\n",
    "loc = {\n",
    "    \"type\": \"MultiPoint\",\n",
    "    \"coordinates\": coordinates_list\n",
    "}\n"
   ]
  },
  {
   "cell_type": "markdown",
   "id": "7d2fc18f-4b4c-478e-8acd-4c37d9cca69a",
   "metadata": {},
   "source": [
    "# Plot pts"
   ]
  },
  {
   "cell_type": "code",
   "execution_count": null,
   "id": "85398126-5713-4c66-b5bc-5c5da28eedba",
   "metadata": {},
   "outputs": [],
   "source": [
    "import geopandas as gpd\n",
    "import matplotlib.pyplot as plt\n",
    "\n",
    "# Assuming you have created the 'points_gdf' GeoDataFrame with the points\n",
    "\n",
    "# Plot the buffered geometries from your original GeoDataFrame\n",
    "ax = buffered_gdf.plot(figsize=(10, 10), color='lightblue', edgecolor='black')\n",
    "\n",
    "# Plot the points on top of the buffered geometries\n",
    "points_gdf.plot(ax=ax, color='red', markersize=5)\n",
    "\n",
    "# Set plot title and labels\n",
    "ax.set_title(\"Buffered Geometries with Points\")\n",
    "ax.set_xlabel(\"Longitude\")\n",
    "ax.set_ylabel(\"Latitude\")\n",
    "\n",
    "# Show the plot\n",
    "plt.show()\n"
   ]
  },
  {
   "cell_type": "markdown",
   "id": "c22b8140-8074-4185-8e53-68bd42b9935c",
   "metadata": {},
   "source": [
    "# DOWNLOAD multiple tile from multiple collection along the multipoint (loc)"
   ]
  },
  {
   "cell_type": "code",
   "execution_count": null,
   "id": "dd2b04f1-37ef-4fd9-9d84-4689e63434f5",
   "metadata": {},
   "outputs": [],
   "source": [
    "from shapely.geometry import shape\n",
    "from shapely.ops import transform\n",
    "\n",
    "geom = shape(loc)\n",
    "geom_buff=gpd.GeoSeries(geom.buffer(0.01),crs='EPSG:4326')\n",
    "#geom_buff.explore()\n",
    "\n",
    "#time_of_interest = \"2013-01-01/2020-12-31\"\n",
    "\n",
    "# activate catelog and search for dataset\n",
    "catalog = pystac_client.Client.open(\"https://planetarycomputer.microsoft.com/api/stac/v1\", modifier=planetary_computer.sign_inplace)\n",
    "\n",
    "# Collections for LIDAR\n",
    "COLLECTIONLIST = [\n",
    "\"3dep-lidar-hag\",\n",
    "\"3dep-lidar-dsm\",\n",
    "#\"3dep-lidar-pointsourceid\",\n",
    "#\"3dep-lidar-intensity\",\n",
    "\"3dep-lidar-dtm\",\n",
    "#\"3dep-lidar-dtm-native\",\n",
    "#\"3dep-lidar-returns\",\n",
    "#\"3dep-lidar-classification\"\n",
    "                 ]\n",
    "for w in range(len(COLLECTIONLIST)):\n",
    "    \n",
    "    srch_hag = catalog.search(collections=COLLECTIONLIST[w], intersects=geom.buffer(0.01))#, datetime=time_of_interest)\n",
    "\n",
    "    ic_hag = srch_hag.get_all_items()\n",
    "    df_hag = gpd.GeoDataFrame.from_features(ic_hag.to_dict(), crs=\"epsg:4326\")\n",
    "    #display(df_hag.head(5))\n",
    "    #p1=geom_buff.explore(color='orange')\n",
    "    #p2=df_hag.explore(m=p1,color='blue')\n",
    "    #p2\n",
    "\n",
    "    # Download data\n",
    "    #ic_hag[0].assets['data'].href\n",
    "\n",
    "    Number_of_Tiles = len(ic_hag)\n",
    "\n",
    "    import requests\n",
    "\n",
    "    for i in range(Number_of_Tiles):\n",
    "        print(i)\n",
    "        # Select the STAC item you want to export\n",
    "        item = ic_hag[i]  # Replace 0 with the index of the item you want to export\n",
    "\n",
    "        # Get the download URL of the 'data' asset\n",
    "        asset_url = item.assets['data'].href\n",
    "\n",
    "        # Define the output GeoTIFF file path\n",
    "        output_tif_path = f\"C:\\\\Path\\\\To\\\\Desktop\\\\ExportFolder\\\\{COLLECTIONLIST[w]}_{i}.tif\"\n",
    "\n",
    "        # Download the asset\n",
    "        response = requests.get(asset_url)\n",
    "\n",
    "        # Check if the download was successful\n",
    "        if response.status_code == 200:\n",
    "            with open(output_tif_path, 'wb') as output_file:\n",
    "                output_file.write(response.content)\n",
    "            print(f\"GeoTIFF file '{output_tif_path}' has been downloaded.\")\n",
    "        else:\n",
    "            print(f\"Failed to download the asset.\")"
   ]
  }
 ],
 "metadata": {
  "kernelspec": {
   "display_name": "Python 3 (ipykernel)",
   "language": "python",
   "name": "python3"
  },
  "language_info": {
   "codemirror_mode": {
    "name": "ipython",
    "version": 3
   },
   "file_extension": ".py",
   "mimetype": "text/x-python",
   "name": "python",
   "nbconvert_exporter": "python",
   "pygments_lexer": "ipython3",
   "version": "3.11.0"
  }
 },
 "nbformat": 4,
 "nbformat_minor": 5
}
