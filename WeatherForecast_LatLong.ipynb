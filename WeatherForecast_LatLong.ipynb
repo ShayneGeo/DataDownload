{
 "cells": [
  {
   "cell_type": "markdown",
   "id": "577a9121-2a4b-4283-ad54-8bb322340492",
   "metadata": {},
   "source": [
    "# Get weather forcast for a lat lon coordinate\n",
    "### https://www.weather.gov/documentation/services-web-api"
   ]
  },
  {
   "cell_type": "code",
   "execution_count": 1,
   "id": "3560e7e0-1cab-4d1c-a557-e525468fe03c",
   "metadata": {},
   "outputs": [
    {
     "name": "stdout",
     "output_type": "stream",
     "text": [
      "The temperature forecast is                  38°F\n",
      "The windSpeed forecast is                    7 to 20 mph\n",
      "The windDirection forecast is                W\n",
      "The shortForecast forecast is                Mostly Clear\n",
      "The detailedForecast forecast is      Sunny. High near 56, with temperatures falling to around 49 in the afternoon. South wind around 7 mph.\n",
      "The relativeHumidity forecast is             35\n",
      "The dewpoint forecast is                     -7.777777777777778\n",
      "The probabilityOfPrecipitation forecast is   None %\n",
      "The temperatureTrend forecast is             None\n",
      "The updated time forecast is                 2023-12-06T17:04:28+00:00\n",
      "The startTime forecast is                    2023-12-06T18:00:00-07:00\n",
      "The endTime forecast is                      2023-12-07T06:00:00-07:00\n",
      "The elevation is                             2098.8528\n"
     ]
    }
   ],
   "source": [
    "import requests\n",
    "\n",
    "# Set your API token obtained from the token request page\n",
    "# https://www.ncdc.noaa.gov/cdo-web/token#:~:text=Request%20Web%20Services%20Token%20To,address%20Submit%20your%20email%20address\n",
    "api_token = \"\"\n",
    "\n",
    "# Set the base URL for the NOAA API\n",
    "base_url = \"https://api.weather.gov/points/40.655452,-105.309082\"\n",
    "\n",
    "# Set the headers with the API token\n",
    "headers = {\"token\": api_token}\n",
    "\n",
    "# Send the HTTP GET request to retrieve the data\n",
    "response = requests.get(base_url, headers=headers)\n",
    "\n",
    "i=1\n",
    "\n",
    "# Check the response status code\n",
    "if response.status_code == 200:\n",
    "    # Extract the forecast URL from the response\n",
    "    data = response.json()\n",
    "    \n",
    "    forecast_url = data[\"properties\"][\"forecast\"]\n",
    "\n",
    "    # Send a new HTTP GET request to retrieve the forecast data\n",
    "    forecast_response = requests.get(forecast_url, headers=headers)\n",
    "\n",
    "    # Check the forecast response status code\n",
    "    if forecast_response.status_code == 200:\n",
    "        # Extract the data from the forecast response\n",
    "        forecast_data = forecast_response.json()\n",
    "\n",
    "        # Get the temperature from the forecast data\n",
    "        temperature = forecast_data[\"properties\"][\"periods\"][i][\"temperature\"]\n",
    "        windSpeed = forecast_data[\"properties\"][\"periods\"][i][\"windSpeed\"]\n",
    "        windDirection = forecast_data[\"properties\"][\"periods\"][i][\"windDirection\"]\n",
    "        shortForecast = forecast_data[\"properties\"][\"periods\"][i][\"shortForecast\"]\n",
    "        detailedForecast = forecast_data[\"properties\"][\"periods\"][0][\"detailedForecast\"]\n",
    "        relativeHumidity = forecast_data[\"properties\"][\"periods\"][i][\"relativeHumidity\"][\"value\"]\n",
    "        dewpoint = forecast_data[\"properties\"][\"periods\"][i][\"dewpoint\"][\"value\"]\n",
    "        probabilityOfPrecipitation = forecast_data[\"properties\"][\"periods\"][i][\"probabilityOfPrecipitation\"][\"value\"]\n",
    "        temperatureTrend = forecast_data[\"properties\"][\"periods\"][i][\"temperatureTrend\"]\n",
    "        updated = forecast_data[\"properties\"][\"updated\"]\n",
    "        startTime = forecast_data[\"properties\"][\"periods\"][i][\"startTime\"]\n",
    "        endTime = forecast_data[\"properties\"][\"periods\"][i][\"endTime\"]\n",
    "        elevation = forecast_data[\"properties\"][\"elevation\"][\"value\"]\n",
    "\n",
    "        # Print the forecast\n",
    "        print(f\"The temperature forecast is                  {temperature}°F\")\n",
    "        print(f\"The windSpeed forecast is                    {windSpeed}\")\n",
    "        print(f\"The windDirection forecast is                {windDirection}\")\n",
    "        print(f\"The shortForecast forecast is                {shortForecast}\")\n",
    "        print(f\"The detailedForecast forecast is      {detailedForecast}\")\n",
    "        print(f\"The relativeHumidity forecast is             {relativeHumidity}\")\n",
    "        print(f\"The dewpoint forecast is                     {dewpoint}\")\n",
    "        print(f\"The probabilityOfPrecipitation forecast is   {probabilityOfPrecipitation} %\")\n",
    "        print(f\"The temperatureTrend forecast is             {temperatureTrend}\")\n",
    "        print(f\"The updated time forecast is                 {updated}\")\n",
    "        print(f\"The startTime forecast is                    {startTime}\")\n",
    "        print(f\"The endTime forecast is                      {endTime}\")\n",
    "        print(f\"The elevation is                             {elevation}\")\n",
    "\n",
    "        \n",
    "    else:\n",
    "        print(\"Forecast request failed. Status code:\", forecast_response.status_code)\n",
    "else:\n",
    "    print(\"Request failed. Status code:\", response.status_code)\n"
   ]
  },
  {
   "cell_type": "code",
   "execution_count": null,
   "id": "d145e056-cee0-4bf6-9be3-5fb6b23af79a",
   "metadata": {},
   "outputs": [],
   "source": []
  }
 ],
 "metadata": {
  "kernelspec": {
   "display_name": "Python 3 (ipykernel)",
   "language": "python",
   "name": "python3"
  },
  "language_info": {
   "codemirror_mode": {
    "name": "ipython",
    "version": 3
   },
   "file_extension": ".py",
   "mimetype": "text/x-python",
   "name": "python",
   "nbconvert_exporter": "python",
   "pygments_lexer": "ipython3",
   "version": "3.11.0"
  }
 },
 "nbformat": 4,
 "nbformat_minor": 5
}
