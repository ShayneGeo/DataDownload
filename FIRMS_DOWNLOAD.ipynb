{
 "cells": [
  {
   "cell_type": "code",
   "execution_count": 12,
   "id": "9406586c-9177-4007-a330-c710ba13f778",
   "metadata": {},
   "outputs": [
    {
     "name": "stdout",
     "output_type": "stream",
     "text": [
      "Downloaded near real time active fire points from the OGC API.\n"
     ]
    }
   ],
   "source": [
    "import datetime as dt\n",
    "import geopandas as gpd\n",
    "from owslib.ogcapi.features import Features\n",
    "\n",
    "# OGC endpoint hosting near real time fire data\n",
    "OGC_URL = \"https://firenrt.delta-backend.com\"\n",
    "\n",
    "# Initialize an OGC API Features client\n",
    "w = Features(url=OGC_URL)\n",
    "\n",
    "# Example near real time (NRT) collection for new fire pixels\n",
    "# (active fire points) derived from VIIRS\n",
    "# Options include:\n",
    "#   \"public.eis_fire_snapshot_newfirepix_nrt\" (most recent 20 days)\n",
    "#   \"public.eis_fire_lf_newfirepix_nrt\"       (current year to date)\n",
    "COLLECTION = \"public.eis_fire_snapshot_newfirepix_nrt\"\n",
    "#COLLECTION = \"public.eis_fire_lf_newfirepix_nrt\"  \n",
    "\n",
    "# Determine the most recent time from that collection's metadata\n",
    "info = w.collection(COLLECTION)\n",
    "time_intervals = info[\"extent\"][\"temporal\"][\"interval\"]\n",
    "# The last interval is [startTime, endTime]\n",
    "# We'll parse the endTime (most recent)\n",
    "end_time_str = time_intervals[-1][1]  # e.g. '2024-08-11T00:00:00+00:00'\n",
    "end_time = dt.datetime.strptime(end_time_str, \"%Y-%m-%dT%H:%M:%S+00:00\")\n",
    "\n",
    "# Choose a start time (e.g. 7 days before end_time) to fetch near real time data\n",
    "start_time = end_time - dt.timedelta(days=3)\n",
    "start_time_str = start_time.strftime(\"%Y-%m-%dT%H:%M:%S+00:00\")\n",
    "\n",
    "# Construct a query to fetch features within the date range\n",
    "# You can optionally specify a bbox or a filter. We'll just do time range for demonstration.\n",
    "items = w.collection_items(\n",
    "    COLLECTION,\n",
    "    limit=9999,  # Raise if you expect more than 2k features\n",
    "    datetime=f\"{start_time_str}/{end_time_str}\"\n",
    ")\n",
    "\n",
    "# Convert to a GeoDataFrame\n",
    "fire_pixels = gpd.GeoDataFrame.from_features(items[\"features\"])\n",
    "fire_pixels = fire_pixels.set_crs(\"epsg:4326\")  # Confirm correct CRS\n",
    "\n",
    "# Save to local files as needed\n",
    "fire_pixels.to_file(\"active_fire_points_nrt2.geojson\", driver=\"GeoJSON\")\n",
    "fire_pixels.to_file(\"active_fire_points_nrt2.shp\")  # Shapefile example\n",
    "\n",
    "print(\"Downloaded near real time active fire points from the OGC API.\")\n"
   ]
  },
  {
   "cell_type": "code",
   "execution_count": 10,
   "id": "2cc62133-fa21-4f56-ac8a-6d1eda97f9f3",
   "metadata": {},
   "outputs": [
    {
     "name": "stdout",
     "output_type": "stream",
     "text": [
      "Downloaded and saved near real time active fire points (as POINT geometries).\n"
     ]
    }
   ],
   "source": [
    "import datetime as dt\n",
    "import geopandas as gpd\n",
    "from shapely.geometry import Point, MultiPoint\n",
    "from owslib.ogcapi.features import Features\n",
    "\n",
    "# OGC endpoint hosting near real time fire data\n",
    "OGC_URL = \"https://firenrt.delta-backend.com\"\n",
    "\n",
    "# Initialize an OGC API Features client\n",
    "w = Features(url=OGC_URL)\n",
    "\n",
    "# Example near real time (NRT) collection for new fire pixels (active fire points)\n",
    "COLLECTION = \"public.eis_fire_lf_newfirepix_nrt\"\n",
    "\n",
    "# Determine the most recent time from that collection's metadata\n",
    "info = w.collection(COLLECTION)\n",
    "time_intervals = info[\"extent\"][\"temporal\"][\"interval\"]\n",
    "# The last interval is [startTime, endTime]\n",
    "end_time_str = time_intervals[-1][1]  # e.g. '2024-08-11T00:00:00+00:00'\n",
    "end_time = dt.datetime.strptime(end_time_str, \"%Y-%m-%dT%H:%M:%S+00:00\")\n",
    "\n",
    "# Choose a start time (e.g. 3 days before end_time) to fetch near real time data\n",
    "start_time = end_time - dt.timedelta(days=7)\n",
    "start_time_str = start_time.strftime(\"%Y-%m-%dT%H:%M:%S+00:00\")\n",
    "\n",
    "# Construct a query to fetch features within the date range\n",
    "items = w.collection_items(\n",
    "    COLLECTION,\n",
    "    limit=9999,  # Increase as needed\n",
    "    datetime=f\"{start_time_str}/{end_time_str}\"\n",
    ")\n",
    "\n",
    "# Convert to a GeoDataFrame\n",
    "fire_pixels = gpd.GeoDataFrame.from_features(items[\"features\"])\n",
    "fire_pixels = fire_pixels.set_crs(\"EPSG:4326\")  # Confirm correct CRS\n",
    "\n",
    "# --- FIX FOR MIXED SINGLE/MULTI GEOMETRIES ---\n",
    "# Some records may have POINT geometries and others MULTIPOINT.\n",
    "# Shapefiles can't handle a mix. Let's ensure they're all simple Points.\n",
    "def ensure_point(geom):\n",
    "    # If it's a Point, keep it\n",
    "    if isinstance(geom, Point):\n",
    "        return geom\n",
    "    # If it's a MultiPoint with at least one geometry, take the first (or merge)\n",
    "    elif isinstance(geom, MultiPoint) and len(geom.geoms) > 0:\n",
    "        return geom.geoms[0]\n",
    "    # Otherwise, skip (or handle differently)\n",
    "    return None\n",
    "\n",
    "fire_pixels[\"geometry\"] = fire_pixels[\"geometry\"].apply(ensure_point)\n",
    "# Drop rows without valid geometry\n",
    "fire_pixels = fire_pixels[fire_pixels[\"geometry\"].notna()].copy()\n",
    "\n",
    "# Now all geometry is guaranteed to be Point, so we can safely save a shapefile\n",
    "fire_pixels.to_file(\"active_fire_points_nrt2.geojson\", driver=\"GeoJSON\")\n",
    "fire_pixels.to_file(\"active_fire_points_nrt2.shp\")\n",
    "\n",
    "print(\"Downloaded and saved near real time active fire points (as POINT geometries).\")\n"
   ]
  },
  {
   "cell_type": "code",
   "execution_count": null,
   "id": "7f2ac2cf-b866-442b-8f8c-4542ef676a62",
   "metadata": {},
   "outputs": [],
   "source": []
  }
 ],
 "metadata": {
  "kernelspec": {
   "display_name": "Python 3 (ipykernel)",
   "language": "python",
   "name": "python3"
  },
  "language_info": {
   "codemirror_mode": {
    "name": "ipython",
    "version": 3
   },
   "file_extension": ".py",
   "mimetype": "text/x-python",
   "name": "python",
   "nbconvert_exporter": "python",
   "pygments_lexer": "ipython3",
   "version": "3.10.15"
  }
 },
 "nbformat": 4,
 "nbformat_minor": 5
}
